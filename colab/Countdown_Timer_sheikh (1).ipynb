{
  "nbformat": 4,
  "nbformat_minor": 0,
  "metadata": {
    "colab": {
      "provenance": []
    },
    "kernelspec": {
      "name": "python3",
      "display_name": "Python 3"
    },
    "language_info": {
      "name": "python"
    }
  },
  "cells": [
    {
      "cell_type": "code",
      "execution_count": null,
      "metadata": {
        "id": "PyjRGN5ljQIh",
        "colab": {
          "base_uri": "https://localhost:8080/"
        },
        "outputId": "469f0244-d3ef-402c-81c5-24044cdcd9c4"
      },
      "outputs": [
        {
          "output_type": "stream",
          "name": "stdout",
          "text": [
            "Time's up!\n"
          ]
        }
      ],
      "source": [
        "import time\n",
        "from IPython.display import clear_output\n",
        "def countdown_timer(seconds):\n",
        "    while seconds:\n",
        "        mins, secs = divmod(seconds, 60)\n",
        "        timer = f'{mins:02d}:{secs:02d}'\n",
        "        clear_output(wait=True)\n",
        "        print(timer)\n",
        "        time.sleep(1)\n",
        "        seconds -= 1\n",
        "    clear_output(wait=True)\n",
        "    print(\"Time's up!\")\n",
        "countdown_timer(10)\n",
        "\n"
      ]
    }
  ]
}