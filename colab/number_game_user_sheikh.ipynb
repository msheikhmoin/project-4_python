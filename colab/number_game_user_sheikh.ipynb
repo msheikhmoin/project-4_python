{
  "cells": [
    {
      "cell_type": "code",
      "execution_count": null,
      "metadata": {
        "colab": {
          "background_save": true,
          "base_uri": "https://localhost:8080/"
        },
        "id": "lNdqlLd4jQ6x",
        "outputId": "1a426d80-c455-437b-a2ba-7d80927d056e"
      },
      "outputs": [
        {
          "name": "stdout",
          "output_type": "stream",
          "text": [
            "WELCOME TO THE VIP 'GUESS THE NUMBER' GAME!\n",
            "Think of a secret number (1-100) and the computer will guess it!\n"
          ]
        }
      ],
      "source": [
        "import random\n",
        "import time\n",
        "\n",
        "print(\"WELCOME TO THE VIP 'GUESS THE NUMBER' GAME!\")\n",
        "print(\"Think of a secret number (1-100) and the computer will guess it!\")\n",
        "input(\"Press ENTER when you are ready...\")\n",
        "\n",
        "low, high = 1, 100\n",
        "attempts = 0\n",
        "\n",
        "while True:\n",
        "    computer_guess = random.randint(low, high)\n",
        "    attempts += 1\n",
        "    print(f\"\\nComputer's guess: {computer_guess}\")\n",
        "\n",
        "    feedback = input(\"Type 'L' if too low, 'H' if too high, or 'C' if correct: \").strip().upper()\n",
        "\n",
        "    if feedback == 'L':\n",
        "        low = computer_guess + 1\n",
        "        print(\"Okay! I will try a higher number.\")\n",
        "\n",
        "    elif feedback == 'H':\n",
        "        high = computer_guess - 1\n",
        "        print(\"Got it! I will try a lower number.\")\n",
        "\n",
        "    elif feedback == 'C':\n",
        "        print(\"\\nCONGRATULATIONS!\")\n",
        "        print(f\"I guessed your number in {attempts} attempts!\")\n",
        "        print(\"I AM A TRUE GUESSING CHAMPION!\")\n",
        "        break\n",
        "\n",
        "    else:\n",
        "        print(\"Invalid input! Please type only 'L', 'H', or 'C'.\")\n",
        "\n",
        "    time.sleep(1)\n",
        "\n",
        "print(\"\\nGAME OVER! Thanks for playing!\")\n"
      ]
    }
  ],
  "metadata": {
    "colab": {
      "provenance": []
    },
    "kernelspec": {
      "display_name": "Python 3",
      "name": "python3"
    },
    "language_info": {
      "name": "python"
    }
  },
  "nbformat": 4,
  "nbformat_minor": 0
}