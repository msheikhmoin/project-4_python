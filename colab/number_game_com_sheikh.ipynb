{
  "nbformat": 4,
  "nbformat_minor": 0,
  "metadata": {
    "colab": {
      "provenance": []
    },
    "kernelspec": {
      "name": "python3",
      "display_name": "Python 3"
    },
    "language_info": {
      "name": "python"
    }
  },
  "cells": [
    {
      "cell_type": "code",
      "execution_count": null,
      "metadata": {
        "colab": {
          "base_uri": "https://localhost:8080/"
        },
        "id": "aJkzmajl0iBY",
        "outputId": "093a803a-151c-4d04-a557-e234d6803c78"
      },
      "outputs": [
        {
          "output_type": "stream",
          "name": "stdout",
          "text": [
            "\n",
            "Welcome to Guess the Number Game!\n",
            "I have selected a number between 1 and 100. Try to guess it!\n",
            "\n",
            "Enter your guess: 2\n",
            "Too low! Try again.\n",
            "\n",
            "Enter your guess: 5\n",
            "Too low! Try again.\n",
            "\n",
            "Enter your guess: 6\n",
            "Too low! Try again.\n",
            "\n",
            "Enter your guess: 10\n",
            "Too low! Try again.\n",
            "\n",
            "Enter your guess: 30\n",
            "Too low! Try again.\n",
            "\n",
            "Enter your guess: 50\n",
            "Too low! Try again.\n",
            "\n",
            "Enter your guess: 70\n",
            "Too low! Try again.\n",
            "\n",
            "Enter your guess: 100\n",
            "Too high! Try again.\n",
            "\n",
            "Enter your guess: 80\n",
            "Too low! Try again.\n",
            "\n",
            "Enter your guess: 90\n",
            "Too low! Try again.\n",
            "\n",
            "Enter your guess: 92\n",
            "🎉 Congratulations! You guessed the number 92 correctly in 11 attempts.\n",
            "\n",
            "Do you want to play again? (yes/no)\n"
          ]
        }
      ],
      "source": [
        "import random\n",
        "\n",
        "def guess_the_number():\n",
        "    print(\"\\nWelcome to Guess the Number Game!\")\n",
        "    print(\"I have selected a number between 1 and 100. Try to guess it!\\n\")\n",
        "\n",
        "    number_to_guess = random.randint(1, 100)\n",
        "    attempts = 0\n",
        "\n",
        "    while True:\n",
        "        try:\n",
        "            user_guess = int(input(\"Enter your guess: \"))\n",
        "            attempts += 1\n",
        "\n",
        "            if user_guess < number_to_guess:\n",
        "                print(\"Too low! Try again.\\n\")\n",
        "            elif user_guess > number_to_guess:\n",
        "                print(\"Too high! Try again.\\n\")\n",
        "            else:\n",
        "                print(f\"🎉 Congratulations! You guessed the number {number_to_guess} correctly in {attempts} attempts.\\n\")\n",
        "                break\n",
        "        except ValueError:\n",
        "            print(\"❌ Invalid input! Please enter a valid number.\\n\")\n",
        "\n",
        "    print(\"Do you want to play again? (yes/no)\")\n",
        "    if input().lower() == \"yes\":\n",
        "        guess_the_number()\n",
        "    else:\n",
        "        print(\"Thanks for playing! Goodbye!\")\n",
        "guess_the_number()\n"
      ]
    }
  ]
}