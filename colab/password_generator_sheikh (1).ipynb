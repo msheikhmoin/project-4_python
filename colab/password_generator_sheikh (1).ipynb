{
  "nbformat": 4,
  "nbformat_minor": 0,
  "metadata": {
    "colab": {
      "provenance": []
    },
    "kernelspec": {
      "name": "python3",
      "display_name": "Python 3"
    },
    "language_info": {
      "name": "python"
    }
  },
  "cells": [
    {
      "cell_type": "code",
      "execution_count": null,
      "metadata": {
        "id": "0sv81nXxtvKB"
      },
      "outputs": [],
      "source": [
        "import random\n",
        "import string\n",
        "\n",
        "def generate_password(length=12):\n",
        "\n",
        "    lower = string.ascii_lowercase\n",
        "    upper = string.ascii_uppercase\n",
        "    digits = string.digits\n",
        "    symbols = string.punctuation\n",
        "\n",
        "\n",
        "    all_characters = lower + upper + digits + symbols\n",
        "    password = ''.join(random.sample(all_characters, length))\n",
        "\n",
        "    return password\n",
        "try:\n",
        "    length = int(input(\"Enter password length (minimum 10): \"))\n",
        "    if length < 10:\n",
        "        print(\"Password length should be at least 10!\")\n",
        "    else:\n",
        "        print(f\"Generated Password: {generate_password(length)}\")\n",
        "except ValueError:\n",
        "    print(\"Invalid input! Please enter a number.\")\n"
      ]
    }
  ]
}