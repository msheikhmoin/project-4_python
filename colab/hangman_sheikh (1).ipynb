{
  "nbformat": 4,
  "nbformat_minor": 0,
  "metadata": {
    "colab": {
      "provenance": []
    },
    "kernelspec": {
      "name": "python3",
      "display_name": "Python 3"
    },
    "language_info": {
      "name": "python"
    }
  },
  "cells": [
    {
      "cell_type": "code",
      "execution_count": null,
      "metadata": {
        "id": "qeeH1_qwIwDD"
      },
      "outputs": [],
      "source": [
        "import random\n",
        "\n",
        "def choose_word():\n",
        "    words = [\"python\", \"hangman\", \"computer\", \"programming\", \"challenge\", \"developer\", \"streamlit\"]\n",
        "    return random.choice(words)\n",
        "\n",
        "def display_word(word, guessed_letters):\n",
        "    return \" \".join([letter if letter in guessed_letters else \"_\" for letter in word])\n",
        "\n",
        "def hangman():\n",
        "    print(\"\\nWelcome to Hangman Game!\")\n",
        "    word_to_guess = choose_word()\n",
        "    guessed_letters = set()\n",
        "    attempts = 6\n",
        "\n",
        "    while attempts > 0:\n",
        "        print(\"\\nWord: \", display_word(word_to_guess, guessed_letters))\n",
        "        print(f\"Attempts left: {attempts}\")\n",
        "\n",
        "        guess = input(\"Guess a letter: \").lower()\n",
        "\n",
        "        if len(guess) != 1 or not guess.isalpha():\n",
        "            print(\"❌ Invalid input! Please enter a single letter.\")\n",
        "            continue\n",
        "\n",
        "        if guess in guessed_letters:\n",
        "            print(\"⚠️ You already guessed that letter! Try again.\")\n",
        "            continue\n",
        "\n",
        "        guessed_letters.add(guess)\n",
        "\n",
        "        if guess not in word_to_guess:\n",
        "            attempts -= 1\n",
        "            print(\"❌ Wrong guess!\")\n",
        "\n",
        "        if set(word_to_guess).issubset(guessed_letters):\n",
        "            print(\"🎉 Congratulations! You guessed the word:\", word_to_guess)\n",
        "            break\n",
        "    else:\n",
        "        print(f\" Game Over! The word was: {word_to_guess}\")\n",
        "\n",
        "    print(\"Do you want to play again? (yes/no)\")\n",
        "    if input().lower() == \"yes\":\n",
        "        hangman()\n",
        "    else:\n",
        "        print(\"Thanks for playing! Goodbye! 👋\")\n",
        "\n",
        "hangman()\n"
      ]
    }
  ]
}