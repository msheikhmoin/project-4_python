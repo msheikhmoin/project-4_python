{
  "nbformat": 4,
  "nbformat_minor": 0,
  "metadata": {
    "colab": {
      "provenance": []
    },
    "kernelspec": {
      "name": "python3",
      "display_name": "Python 3"
    },
    "language_info": {
      "name": "python"
    }
  },
  "cells": [
    {
      "cell_type": "code",
      "execution_count": null,
      "metadata": {
        "colab": {
          "base_uri": "https://localhost:8080/"
        },
        "id": "-YyRkxB5xAII",
        "outputId": "8c50a505-22d8-4c11-c897-484222617f99"
      },
      "outputs": [
        {
          "output_type": "stream",
          "name": "stdout",
          "text": [
            "\n",
            "Welcome to Mad Libs! Fill in the blanks:\n",
            "\n",
            "Enter a noun: tiger\n",
            "Enter a verb: run\n",
            "Enter an adjective: brave\n",
            "Enter a place: jungle\n",
            "Enter an animal: tiger\n",
            "Enter a type of food: meat\n",
            "\n",
            "Generating your Mad Libs story...\n",
            "\n",
            "\n",
            "    Once upon a time, in a brave land far away, there was a tiger who loved to run.\n",
            "    One day, the tiger decided to visit jungle, where it met a talking tiger.\n",
            "    Together, they enjoyed a feast of delicious meat and had the best time of their lives!\n",
            "    \n",
            "Hope you enjoyed your unique story! Want to play again? (yes/no)\n",
            "no\n",
            "Thanks for playing! Goodbye!\n"
          ]
        }
      ],
      "source": [
        "\n",
        "import time\n",
        "\n",
        "def mad_libs():\n",
        "    print(\"\\nWelcome to Mad Libs! Fill in the blanks:\\n\")\n",
        "    time.sleep(1)\n",
        "\n",
        "    noun = input(\"Enter a noun: \")\n",
        "    verb = input(\"Enter a verb: \")\n",
        "    adjective = input(\"Enter an adjective: \")\n",
        "    place = input(\"Enter a place: \")\n",
        "    animal = input(\"Enter an animal: \")\n",
        "    food = input(\"Enter a type of food: \")\n",
        "\n",
        "    story = f\"\"\"\n",
        "    Once upon a time, in a {adjective} land far away, there was a {noun} who loved to {verb}.\n",
        "    One day, the {noun} decided to visit {place}, where it met a talking {animal}.\n",
        "    Together, they enjoyed a feast of delicious {food} and had the best time of their lives!\n",
        "    \"\"\"\n",
        "\n",
        "    print(\"\\nGenerating your Mad Libs story...\\n\")\n",
        "    time.sleep(2)\n",
        "    print(story)\n",
        "\n",
        "    print(\"Hope you enjoyed your unique story! Want to play again? (yes/no)\")\n",
        "    if input().lower() == \"yes\":\n",
        "        mad_libs()\n",
        "    else:\n",
        "        print(\"Thanks for playing! Goodbye!\")\n",
        "mad_libs()\n"
      ]
    }
  ]
}