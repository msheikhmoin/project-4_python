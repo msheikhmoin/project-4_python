{
  "nbformat": 4,
  "nbformat_minor": 0,
  "metadata": {
    "colab": {
      "provenance": []
    },
    "kernelspec": {
      "name": "python3",
      "display_name": "Python 3"
    },
    "language_info": {
      "name": "python"
    }
  },
  "cells": [
    {
      "cell_type": "code",
      "execution_count": null,
      "metadata": {
        "colab": {
          "base_uri": "https://localhost:8080/"
        },
        "id": "DkKDyMM5svEd",
        "outputId": "5f5f99a5-edf5-4d05-dfc6-e3a26dc2c1b3"
      },
      "outputs": [
        {
          "output_type": "stream",
          "name": "stdout",
          "text": [
            "Enter rock, paper, or scissors: paper\n",
            "\n",
            "You chose: paper\n",
            "Computer chose: rock\n",
            "\n",
            "🎉 You win!\n"
          ]
        }
      ],
      "source": [
        "import random\n",
        "\n",
        "def play_game():\n",
        "    choices = [\"rock\", \"paper\", \"scissors\"]\n",
        "\n",
        "    user_choice = input(\"Enter rock, paper, or scissors: \").lower()\n",
        "    if user_choice not in choices:\n",
        "        print(\"Invalid choice! Please try again.\")\n",
        "        return play_game()\n",
        "\n",
        "    computer_choice = random.choice(choices)\n",
        "\n",
        "    print(f\"\\nYou chose: {user_choice}\")\n",
        "    print(f\"Computer chose: {computer_choice}\\n\")\n",
        "\n",
        "    if user_choice == computer_choice:\n",
        "        print(\"It's a tie!\")\n",
        "    elif (user_choice == \"rock\" and computer_choice == \"scissors\") or \\\n",
        "         (user_choice == \"paper\" and computer_choice == \"rock\") or \\\n",
        "         (user_choice == \"scissors\" and computer_choice == \"paper\"):\n",
        "        print(\" You win!\")\n",
        "    else:\n",
        "        print(\" You lose!\")\n",
        "play_game()\n"
      ]
    }
  ]
}